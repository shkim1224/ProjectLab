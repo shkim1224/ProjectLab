{
 "cells": [
  {
   "cell_type": "code",
   "execution_count": null,
   "source": [
    "import cv2\r\n",
    "from cvzone.HandTrackingModule import HandDetector\r\n",
    "import numpy as np\r\n",
    "\r\n",
    "cap = cv2.VideoCapture(0)\r\n",
    "cap.set(3,1280)\r\n",
    "cap.set(4,720)\r\n",
    "# detector = HandDetector(detectionCon=0.65)\r\n",
    "# img1 = cv2.imread(\"F:/2021_2_lecture/ProjectLab2/mediapipe_cvzone1/ImageJPG/2.jpg\")\r\n",
    "# ox,oy = 100,100 # image starting point\r\n",
    "\r\n",
    "\r\n",
    "while True:\r\n",
    "    succ, img = cap.read()\r\n",
    "    img = cv2.flip(img,1)\r\n",
    "    # hands, img = detector.findHands(img,flipType=False)\r\n",
    "    h,w,_ = img.shape  # 영상을 어레이로 표시할 때 index는 y가 먼저 나옴\r\n",
    "    #print(h,w)\r\n",
    "    \r\n",
    "    # if hands:\r\n",
    "    #     lmList = hands[0]['lmList']\r\n",
    "    #     #cursor = lmList[8]   # tip of the index finger\r\n",
    "    #     length, info, img = detector.findDistance(lmList[8],lmList[12],img)  # tip of middle finger\r\n",
    "    #     #print(length)\r\n",
    "    #     if length < 60:\r\n",
    "    #         cursor = lmList[8]\r\n",
    "    #         # check if in region\r\n",
    "    #         if ox < cursor[0] < ox+w and oy < cursor[1] < oy+h:\r\n",
    "    #             # print(\"inside of image\")\r\n",
    "    #             ox,oy = cursor[0]-w//2, cursor[1]-h//2\r\n",
    "      \r\n",
    "    # img[oy:oy+h, ox:ox+w] = img1  # img1을 오리지널 영상에 오버래핑 => img[y, x] : 순서 주의!! y comes first\r\n",
    "    \r\n",
    "    \r\n",
    "    cv2.imshow(\"Image\",img)\r\n",
    "    cv2.waitKey(1)\r\n",
    "    \r\n",
    "    "
   ],
   "outputs": [],
   "metadata": {}
  }
 ],
 "metadata": {
  "orig_nbformat": 4,
  "language_info": {
   "name": "python",
   "version": "3.7.11"
  },
  "kernelspec": {
   "name": "python3",
   "display_name": "Python 3.7.11 64-bit ('tensorflow2_image': conda)"
  },
  "interpreter": {
   "hash": "8fad168915e9bb10cad52b2c0e354186dfc6b69ae4e47159536c683ac0b2eaa9"
  }
 },
 "nbformat": 4,
 "nbformat_minor": 2
}