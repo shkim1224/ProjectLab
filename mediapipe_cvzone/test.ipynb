{
 "cells": [
  {
   "cell_type": "code",
   "execution_count": null,
   "source": [
    "lmlist=[(8,1,1),(9,2,2)]"
   ],
   "outputs": [],
   "metadata": {}
  }
 ],
 "metadata": {
  "orig_nbformat": 4,
  "language_info": {
   "name": "python",
   "version": "3.8.11"
  },
  "kernelspec": {
   "name": "python3",
   "display_name": "Python 3.8.11 64-bit (conda)"
  },
  "interpreter": {
   "hash": "df9155dce67911df1d89198d96ec59e6ecf7f9f1044b69775c8441582485f5de"
  }
 },
 "nbformat": 4,
 "nbformat_minor": 2
}