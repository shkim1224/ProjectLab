{
 "cells": [
  {
   "cell_type": "code",
   "execution_count": null,
   "source": [
    "lmlist1 = [[0, 483, 616], [1, 589, 606], [2, 668, 588], [3, 730, 572], [4, 766, 566], [5, 637, 475], [6, 694, 390], [7, 705, 392], [8, 709, 415], [9, 574, 443], [10, 618, 350], [11, 623, 374], [12, 619, 415], [13, 515, 436], [14, 550, 364], [15, 559, 389], [16, 556, 424], [17, 469, 445], [18, 485, 395], [19, 498, 417], [20, 501, 446]]"
   ],
   "outputs": [],
   "metadata": {}
  },
  {
   "cell_type": "code",
   "execution_count": 2,
   "source": [
    "lmlist1[8]"
   ],
   "outputs": [
    {
     "output_type": "execute_result",
     "data": {
      "text/plain": [
       "[8, 709, 415]"
      ]
     },
     "metadata": {},
     "execution_count": 2
    }
   ],
   "metadata": {}
  },
  {
   "cell_type": "code",
   "execution_count": 5,
   "source": [
    "lmlist1[8][2]"
   ],
   "outputs": [
    {
     "output_type": "execute_result",
     "data": {
      "text/plain": [
       "415"
      ]
     },
     "metadata": {},
     "execution_count": 5
    }
   ],
   "metadata": {}
  }
 ],
 "metadata": {
  "orig_nbformat": 4,
  "language_info": {
   "name": "python",
   "version": "3.6.13",
   "mimetype": "text/x-python",
   "codemirror_mode": {
    "name": "ipython",
    "version": 3
   },
   "pygments_lexer": "ipython3",
   "nbconvert_exporter": "python",
   "file_extension": ".py"
  },
  "kernelspec": {
   "name": "python3",
   "display_name": "Python 3.6.13 64-bit ('tensorflow2': conda)"
  },
  "interpreter": {
   "hash": "b0847960013817d1acd00de9b07cb07aec17a7c019e8e1c419826a7164265b76"
  }
 },
 "nbformat": 4,
 "nbformat_minor": 2
}